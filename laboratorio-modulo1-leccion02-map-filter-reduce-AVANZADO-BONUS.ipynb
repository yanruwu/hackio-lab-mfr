{
 "cells": [
  {
   "cell_type": "markdown",
   "metadata": {},
   "source": [
    "\n",
    "<div style=\"text-align: center;\">\n",
    "  <img src=\"https://github.com/Hack-io-Data/Imagenes/blob/main/01-LogosHackio/logo_celeste@4x.png?raw=true\" alt=\"esquema\" />\n",
    "</div>\n"
   ]
  },
  {
   "cell_type": "code",
   "execution_count": 1,
   "metadata": {},
   "outputs": [],
   "source": [
    "from functools import reduce"
   ]
  },
  {
   "cell_type": "markdown",
   "metadata": {
    "vscode": {
     "languageId": "plaintext"
    }
   },
   "source": [
    "#### Ejercicio 1. Transformar y agregar listas de diccionarios:\n",
    "Dada una lista de diccionarios que representan productos con nombre, precio y cantidad, usa `map` para calcular el costo total de cada producto (precio * cantidad). Luego, usa `reduce` para sumar los costos totales y obtener el gasto total.\n",
    "\n",
    "```python\n",
    "productos = [\n",
    "    {'nombre': 'camisa', 'precio': 50, 'cantidad': 3},\n",
    "    {'nombre': 'pantalon', 'precio': 100, 'cantidad': 2},\n",
    "    {'nombre': 'zapatos', 'precio': 150, 'cantidad': 1}\n",
    "]\n",
    "# Resultado esperado: 450 + 200 + 150 = 800\n",
    "```"
   ]
  },
  {
   "cell_type": "code",
   "execution_count": 4,
   "metadata": {},
   "outputs": [
    {
     "name": "stdout",
     "output_type": "stream",
     "text": [
      "Precio total : $500\n"
     ]
    }
   ],
   "source": [
    "productos = [\n",
    "    {'nombre': 'camisa', 'precio': 50, 'cantidad': 3},\n",
    "    {'nombre': 'pantalon', 'precio': 100, 'cantidad': 2},\n",
    "    {'nombre': 'zapatos', 'precio': 150, 'cantidad': 1}\n",
    "]\n",
    "\n",
    "\n",
    "def suma_precio(p1, p2):\n",
    "    try:\n",
    "        suma = p1['precio'] * p1['cantidad'] + p2['precio'] * p2['cantidad']\n",
    "        return suma\n",
    "    except:\n",
    "        suma = p1 + p2['precio'] * p2['cantidad']\n",
    "        return suma\n",
    "\n",
    "\n",
    "print(f'Precio total : ${reduce(suma_precio, productos)}')"
   ]
  },
  {
   "cell_type": "markdown",
   "metadata": {},
   "source": [
    "#### Ejercicio 2. Combinar `map` y `filter` para detectar números perfectos:\n",
    "\n",
    "Un número es perfecto si la suma de sus divisores propios es igual a sí mismo. Dada una lista de números, usa `filter` para seleccionar los números perfectos, y usa `map` para devolver una lista con el mensaje `\"<número> es perfecto\"`.\n",
    "```python\n",
    "numeros = [6, 28, 496, 8128, 33550336, 7, 12]\n",
    "# Resultado esperado: ['6 es perfecto', '28 es perfecto', '496 es perfecto', '8128 es perfecto']\n",
    "```\n"
   ]
  },
  {
   "cell_type": "code",
   "execution_count": 12,
   "metadata": {},
   "outputs": [
    {
     "data": {
      "text/plain": [
       "['6 es perfecto',\n",
       " '28 es perfecto',\n",
       " '496 es perfecto',\n",
       " '8128 es perfecto',\n",
       " '33550336 es perfecto']"
      ]
     },
     "execution_count": 12,
     "metadata": {},
     "output_type": "execute_result"
    }
   ],
   "source": [
    "def numperf(num):\n",
    "    divisors = []\n",
    "    for div in range(1,num):\n",
    "        if num%div == 0:\n",
    "            divisors.append(div)\n",
    "    if sum(divisors) == num:\n",
    "        return True\n",
    "    else:\n",
    "        return False\n",
    "    \n",
    "arr = [6, 28, 496, 8128, 33550336, 7, 12]\n",
    "\n",
    "list(map(lambda x : str(x)+\" es perfecto\", filter(numperf, arr)))"
   ]
  },
  {
   "cell_type": "markdown",
   "metadata": {},
   "source": [
    "\n",
    "#### Ejercicio 3. Procesar una lista de fechas:\n",
    "\n",
    "Dada una lista de fechas en formato `YYYY-MM-DD`, usa `map` para convertirlas a una tupla `(año, mes, día)`. Luego, usa `filter` para seleccionar solo las fechas que caen en meses pares.\n",
    "```python\n",
    "fechas = ['2024-03-15', '2023-02-10', '2025-06-21', '2022-12-25']\n",
    "# Resultado esperado: [(2023, 2, 10), (2025, 6, 21), (2022, 12, 25)]\n",
    "```"
   ]
  },
  {
   "cell_type": "code",
   "execution_count": 26,
   "metadata": {},
   "outputs": [
    {
     "data": {
      "text/plain": [
       "[('2023', '02', '10'), ('2025', '06', '21'), ('2022', '12', '25')]"
      ]
     },
     "execution_count": 26,
     "metadata": {},
     "output_type": "execute_result"
    }
   ],
   "source": [
    "fechas = ['2024-03-15', '2023-02-10', '2025-06-21', '2022-12-25']\n",
    "\n",
    "list(filter(lambda fecha2: int(fecha2[1])%2 == 0, map(lambda fecha: tuple(fecha.split(sep = \"-\")), fechas)))"
   ]
  },
  {
   "cell_type": "markdown",
   "metadata": {},
   "source": [
    "\n",
    "\n",
    "#### Ejercicio 4. Suma condicional de listas anidadas:\n",
    "\n",
    "   Dada una lista de listas de números, usa `map` y `filter` para seleccionar las sublistas donde todos los elementos sean pares. Luego, usa `reduce` para sumar todos los números de esas sublistas seleccionadas.\n",
    "   ```python\n",
    "   numeros = [[2, 4, 6], [1, 3, 5], [8, 10], [7, 9], [12, 14]]\n",
    "   # Resultado esperado: 2 + 4 + 6 + 8 + 10 + 12 + 14 = 56\n",
    "   ```"
   ]
  },
  {
   "cell_type": "code",
   "execution_count": 108,
   "metadata": {},
   "outputs": [
    {
     "data": {
      "text/plain": [
       "56"
      ]
     },
     "execution_count": 108,
     "metadata": {},
     "output_type": "execute_result"
    }
   ],
   "source": [
    "numeros = [[2, 4, 6], [1, 3, 5], [8, 10], [7, 9], [12, 14]]\n",
    "\n",
    "todopares = list(filter(lambda y: all(list(map(lambda x: x%2 == 0, y))), numeros))\n",
    "reduce(lambda i,j: i+j, map(lambda ele: ele, [ele for ele2 in todopares for ele in ele2]))\n"
   ]
  },
  {
   "cell_type": "markdown",
   "metadata": {},
   "source": [
    "#### Ejercicio 5. Filtrar y agrupar datos de empleados:\n",
    "   Dada una lista de diccionarios que representan empleados con nombre, salario y departamento, usa `filter` para seleccionar los empleados cuyo salario sea mayor a 4000 y luego usa `map` para agrupar los nombres de empleados por departamento.\n",
    "   ```python\n",
    "   empleados = [\n",
    "       {'nombre': 'Ana', 'salario': 4500, 'departamento': 'TI'},\n",
    "       {'nombre': 'Luis', 'salario': 3500, 'departamento': 'Marketing'},\n",
    "       {'nombre': 'Pedro', 'salario': 5000, 'departamento': 'TI'},\n",
    "       {'nombre': 'Marta', 'salario': 4200, 'departamento': 'Ventas'}\n",
    "   ]\n",
    "   # Resultado esperado: {'TI': ['Ana', 'Pedro'], 'Ventas': ['Marta']}\n",
    "   ```"
   ]
  },
  {
   "cell_type": "code",
   "execution_count": 263,
   "metadata": {},
   "outputs": [
    {
     "ename": "TypeError",
     "evalue": "unhashable type: 'dict'",
     "output_type": "error",
     "traceback": [
      "\u001b[1;31m---------------------------------------------------------------------------\u001b[0m",
      "\u001b[1;31mTypeError\u001b[0m                                 Traceback (most recent call last)",
      "Cell \u001b[1;32mIn[263], line 20\u001b[0m\n\u001b[0;32m     17\u001b[0m         empleados_finales[empleado[\u001b[38;5;124m\"\u001b[39m\u001b[38;5;124mdepartamento\u001b[39m\u001b[38;5;124m\"\u001b[39m]]\u001b[38;5;241m.\u001b[39mappend(empleado[\u001b[38;5;124m\"\u001b[39m\u001b[38;5;124mnombre\u001b[39m\u001b[38;5;124m\"\u001b[39m])\n\u001b[0;32m     18\u001b[0m     \u001b[38;5;28;01mreturn\u001b[39;00m empleados_finales\n\u001b[1;32m---> 20\u001b[0m \u001b[38;5;28;43mset\u001b[39;49m\u001b[43m(\u001b[49m\u001b[38;5;28;43mlist\u001b[39;49m\u001b[43m(\u001b[49m\u001b[38;5;28;43mmap\u001b[39;49m\u001b[43m(\u001b[49m\u001b[43morganizar\u001b[49m\u001b[43m,\u001b[49m\u001b[43m \u001b[49m\u001b[43mover_4000\u001b[49m\u001b[43m)\u001b[49m\u001b[43m)\u001b[49m\u001b[43m)\u001b[49m\n",
      "\u001b[1;31mTypeError\u001b[0m: unhashable type: 'dict'"
     ]
    }
   ],
   "source": [
    "empleados = [\n",
    "    {'nombre': 'Ana', 'salario': 4500, 'departamento': 'TI'},\n",
    "    {'nombre': 'Luis', 'salario': 3500, 'departamento': 'Marketing'},\n",
    "    {'nombre': 'Pedro', 'salario': 5000, 'departamento': 'TI'},\n",
    "    {'nombre': 'Marta', 'salario': 4200, 'departamento': 'Ventas'}\n",
    "]\n",
    "\n",
    "\n",
    "\n",
    "\n",
    "over_4000 = list(filter(lambda x: x['salario'] > 4000, empleados))\n",
    "\n",
    "def organizar(empleado, empleados_finales = dict()):\n",
    "    if empleado[\"departamento\"] not in list(empleados_finales.keys()):\n",
    "        empleados_finales[empleado[\"departamento\"]] = [empleado[\"nombre\"]]\n",
    "    else:\n",
    "        empleados_finales[empleado[\"departamento\"]].append(empleado[\"nombre\"])\n",
    "    return empleados_finales\n",
    "\n",
    "list(map(organizar, over_4000))\n"
   ]
  },
  {
   "cell_type": "markdown",
   "metadata": {},
   "source": [
    "#### Ejercicio 6. Eliminar duplicados sin usar `set`:\n",
    "\n",
    "   Dada una lista de números, usa `filter` y `map` para eliminar duplicados manteniendo el orden de aparición, sin usar estructuras como `set`.\n",
    "   ```python\n",
    "   numeros = [1, 2, 2, 3, 4, 4, 5]\n",
    "   # Resultado esperado: [1, 2, 3, 4, 5]\n",
    "   ```\n"
   ]
  },
  {
   "cell_type": "code",
   "execution_count": 239,
   "metadata": {},
   "outputs": [
    {
     "data": {
      "text/plain": [
       "[1, 2, 3, 4, 5]"
      ]
     },
     "execution_count": 239,
     "metadata": {},
     "output_type": "execute_result"
    }
   ],
   "source": [
    "numeros = [1, 2, 2, 3, 4, 4, 5]\n",
    "\n",
    "def seen(num, lista2 = []):\n",
    "    if num not in lista2:\n",
    "        lista2.append(num)\n",
    "        return True\n",
    "       \n",
    "\n",
    "list(filter(seen, numeros))"
   ]
  },
  {
   "cell_type": "markdown",
   "metadata": {
    "vscode": {
     "languageId": "plaintext"
    }
   },
   "source": [
    "#### Ejercicio 7. Calculadora de operaciones matemáticas sobre una lista:\n",
    "\n",
    "   Dada una lista de números y una lista de operaciones (representadas como cadenas, como 'sum', 'mul', 'div'), usa `map` para aplicar cada operación secuencialmente a los números. Por ejemplo, si la operación es 'sum', suma los elementos; si es 'mul', multiplícalos.\n",
    "   ```python\n",
    "   numeros = [2, 3, 4]\n",
    "   operaciones = ['sum', 'mul', 'div']\n",
    "   # Resltado esperado: (Suma: 9, Multiplicación: 24, División: Resultado de dividir 2 entre 3 entre 4)\n",
    "   ```"
   ]
  },
  {
   "cell_type": "code",
   "execution_count": 217,
   "metadata": {},
   "outputs": [
    {
     "data": {
      "text/plain": [
       "[9, 24, 0.16666666666666666]"
      ]
     },
     "execution_count": 217,
     "metadata": {},
     "output_type": "execute_result"
    }
   ],
   "source": [
    "numeros = [2, 3, 4]\n",
    "operaciones = ['sum', 'mul', 'div']\n",
    "\n",
    "def operate(op, numeros):\n",
    "    if op == 'sum':\n",
    "        return sum(numeros)\n",
    "    elif op == 'mul':\n",
    "        return reduce(lambda x,y: x*y, numeros)\n",
    "    elif op == 'div':\n",
    "        return reduce(lambda x,y: x/y, numeros)\n",
    "    \n",
    "list(map(operate, operaciones, [numeros, numeros, numeros]))"
   ]
  },
  {
   "cell_type": "markdown",
   "metadata": {},
   "source": [
    "#### Ejercicio 8. Filtros encadenados y transformación de datos:\n",
    "\n",
    "Dada una lista de diccionarios que representan productos con nombre, categoría y precio, usa `filter` para seleccionar los productos de una categoría específica. Luego, usa `map` para aplicar un descuento del 20% a los precios y transformar el diccionario en una nueva lista de tuplas `(nombre, nuevo_precio)`.\n",
    "\n",
    "```python\n",
    "productos = [\n",
    "    {'nombre': 'camisa', 'categoria': 'ropa', 'precio': 50},\n",
    "    {'nombre': 'pantalon', 'categoria': 'ropa', 'precio': 100},\n",
    "    {'nombre': 'libro', 'categoria': 'literatura', 'precio': 25}\n",
    "]\n",
    "# Resultado esperado: [('camisa', 40.0), ('pantalon', 80.0)]\n",
    "```"
   ]
  },
  {
   "cell_type": "code",
   "execution_count": 224,
   "metadata": {},
   "outputs": [
    {
     "data": {
      "text/plain": [
       "[('camisa', 40.0), ('pantalon', 80.0)]"
      ]
     },
     "execution_count": 224,
     "metadata": {},
     "output_type": "execute_result"
    }
   ],
   "source": [
    "productos = [\n",
    "    {'nombre': 'camisa', 'categoria': 'ropa', 'precio': 50},\n",
    "    {'nombre': 'pantalon', 'categoria': 'ropa', 'precio': 100},\n",
    "    {'nombre': 'libro', 'categoria': 'literatura', 'precio': 25}\n",
    "]\n",
    "\n",
    "cat = \"ropa\"\n",
    "list(map(lambda y:(y[\"nombre\"], y[\"precio\"]*0.8), filter(lambda x: True if x[\"categoria\"] == cat else False, productos)))"
   ]
  },
  {
   "cell_type": "markdown",
   "metadata": {},
   "source": [
    "\n",
    "#### Ejercicio 9. Combinación de listas con condiciones:\n",
    "\n",
    "   Dadas dos listas de números de igual longitud, usa `map` para generar una nueva lista de tuplas que combine los elementos de ambas listas. Si el elemento de la primera lista es mayor que el de la segunda, crea la tupla con `(elemento_lista1, None)`; si no, crea la tupla con `(None, elemento_lista2)`.\n",
    "   ```python\n",
    "   lista1 = [10, 5, 8]\n",
    "   lista2 = [3, 7, 8]\n",
    "   # Resultado esperado: [(10, None), (None, 7), (None, 8)]\n",
    "   ```"
   ]
  },
  {
   "cell_type": "code",
   "execution_count": 228,
   "metadata": {},
   "outputs": [
    {
     "data": {
      "text/plain": [
       "[(10, None), (None, 7), (None, 8)]"
      ]
     },
     "execution_count": 228,
     "metadata": {},
     "output_type": "execute_result"
    }
   ],
   "source": [
    "lista1 = [10, 5, 8]\n",
    "lista2 = [3, 7, 8]\n",
    "\n",
    "list(map(lambda x, y: (x,None) if x>y else (None,y), lista1, lista2))"
   ]
  },
  {
   "cell_type": "markdown",
   "metadata": {},
   "source": [
    "#### 10. Filtrar y mapear diccionarios con reglas complejas:\n",
    "\n",
    "Dada una lista de diccionarios que representan ventas, filtra las ventas cuyo importe sea mayor a 500 y cuyo cliente esté marcado como 'premium'. Luego usa `map` para transformar cada venta en una cadena que diga `\"<cliente> realizó una compra de <importe>\"`.\n",
    "\n",
    "```python\n",
    "ventas = [\n",
    "    {'cliente': 'Carlos', 'importe': 600, 'premium': True},\n",
    "    {'cliente': 'Ana', 'importe': 450, 'premium': False},\n",
    "    {'cliente': 'Luis', 'importe': 800, 'premium': True},\n",
    "    {'cliente': 'Marta', 'importe': 300, 'premium': True}\n",
    "]\n",
    "# Resultado esperado: ['Carlos realizó una compra de 600', 'Luis realizó una compra de 800']\n",
    "```"
   ]
  },
  {
   "cell_type": "code",
   "execution_count": 246,
   "metadata": {},
   "outputs": [
    {
     "data": {
      "text/plain": [
       "['Carlos realizó una compra de 600', 'Luis realizó una compra de 800']"
      ]
     },
     "execution_count": 246,
     "metadata": {},
     "output_type": "execute_result"
    }
   ],
   "source": [
    "ventas = [\n",
    "    {'cliente': 'Carlos', 'importe': 600, 'premium': True},\n",
    "    {'cliente': 'Ana', 'importe': 450, 'premium': False},\n",
    "    {'cliente': 'Luis', 'importe': 800, 'premium': True},\n",
    "    {'cliente': 'Marta', 'importe': 300, 'premium': True}\n",
    "]\n",
    "\n",
    "list(map(lambda y: y['cliente'] + \" realizó una compra de \" + str(y['importe']),\n",
    "    filter(lambda x: x['importe']>500 and x['premium'], ventas)))"
   ]
  },
  {
   "cell_type": "markdown",
   "metadata": {
    "vscode": {
     "languageId": "plaintext"
    }
   },
   "source": [
    "#### 11. Agrupación y fusión de intervalos superpuestos\n",
    "\n",
    "Dada una lista de intervalos en forma de tuplas (por ejemplo, `(inicio, fin)`), usa `reduce` para fusionar los intervalos que se superponen o tocan entre sí, y devolver una lista de intervalos fusionados.\n",
    "\n",
    "```python\n",
    "intervalos = [(1, 3), (2, 5), (6, 9), (8, 10)]\n",
    "\n",
    "# Resultado esperado: `[(1, 5), (6, 10)]`\n",
    "```"
   ]
  },
  {
   "cell_type": "code",
   "execution_count": 272,
   "metadata": {},
   "outputs": [
    {
     "data": {
      "text/plain": [
       "set()"
      ]
     },
     "execution_count": 272,
     "metadata": {},
     "output_type": "execute_result"
    }
   ],
   "source": [
    "set()"
   ]
  },
  {
   "cell_type": "code",
   "execution_count": 274,
   "metadata": {},
   "outputs": [
    {
     "data": {
      "text/plain": [
       "(6, 10)"
      ]
     },
     "execution_count": 274,
     "metadata": {},
     "output_type": "execute_result"
    }
   ],
   "source": [
    "intervalos = [(1, 3), (2, 5), (6, 9), (8, 10)]\n",
    "\n",
    "# def uniones(x,y):\n",
    "#     if x[1]>y[0]:\n",
    "#         if x[1]>y[1]\n",
    "\n",
    "reduce(lambda x,y: (x[0], y[1]) if x[1]>y[0] else (y[0],y[1]), intervalos)"
   ]
  },
  {
   "cell_type": "markdown",
   "metadata": {},
   "source": [
    "#### 12. Cálculo de la matriz de adyacencia acumulada\n",
    "\n",
    "Dada una lista de conexiones entre nodos de un grafo representados como pares `(nodo1, nodo2)`, usa `reduce` para generar una matriz de adyacencia acumulada que represente todas las conexiones en el grafo.\n",
    "\n",
    "```python\n",
    "conexiones = [(0, 1), (1, 2), (0, 2), (2, 3)]\n",
    "nodos = 4  # Número de nodos en el grafo\n",
    "```\n",
    "Usa `reduce` para generar una matriz `n x n` que indique las conexiones directas entre los nodos.\n"
   ]
  },
  {
   "cell_type": "code",
   "execution_count": 282,
   "metadata": {},
   "outputs": [
    {
     "data": {
      "text/plain": [
       "array([[1., 1., 0., 0.],\n",
       "       [1., 1., 1., 0.],\n",
       "       [1., 1., 1., 0.],\n",
       "       [0., 1., 1., 0.]])"
      ]
     },
     "execution_count": 282,
     "metadata": {},
     "output_type": "execute_result"
    }
   ],
   "source": [
    "import numpy as np\n",
    "\n",
    "conexiones = [(0, 1), (1, 2), (0, 2), (2, 3)]\n",
    "nodos = 4\n",
    "\n",
    "matrix = np.zeros(shape=(nodos, nodos))\n",
    "for i in range(len(conexiones)):\n",
    "    for j in range(len(conexiones[i])):\n",
    "        matrix[conexiones[i],conexiones[j]] = 1\n",
    "matrix\n",
    "\n"
   ]
  },
  {
   "cell_type": "code",
   "execution_count": 290,
   "metadata": {},
   "outputs": [
    {
     "ename": "TypeError",
     "evalue": "'tuple' object does not support item assignment",
     "output_type": "error",
     "traceback": [
      "\u001b[1;31m---------------------------------------------------------------------------\u001b[0m",
      "\u001b[1;31mTypeError\u001b[0m                                 Traceback (most recent call last)",
      "Cell \u001b[1;32mIn[290], line 11\u001b[0m\n\u001b[0;32m      8\u001b[0m     matrix[conexion[\u001b[38;5;241m1\u001b[39m]][conexion[\u001b[38;5;241m0\u001b[39m]] \u001b[38;5;241m=\u001b[39m \u001b[38;5;241m1\u001b[39m\n\u001b[0;32m      9\u001b[0m     \u001b[38;5;28;01mreturn\u001b[39;00m matrix\n\u001b[1;32m---> 11\u001b[0m matrix_final \u001b[38;5;241m=\u001b[39m \u001b[43mreduce\u001b[49m\u001b[43m(\u001b[49m\u001b[43magregar_conexion\u001b[49m\u001b[43m,\u001b[49m\u001b[43m \u001b[49m\u001b[43mmatrix\u001b[49m\u001b[43m,\u001b[49m\u001b[43m \u001b[49m\u001b[43mconexiones\u001b[49m\u001b[43m)\u001b[49m\n\u001b[0;32m     12\u001b[0m \u001b[38;5;28mprint\u001b[39m(matrix_final)\n",
      "Cell \u001b[1;32mIn[290], line 7\u001b[0m, in \u001b[0;36magregar_conexion\u001b[1;34m(matrix, conexion)\u001b[0m\n\u001b[0;32m      6\u001b[0m \u001b[38;5;28;01mdef\u001b[39;00m \u001b[38;5;21magregar_conexion\u001b[39m(matrix, conexion):\n\u001b[1;32m----> 7\u001b[0m     \u001b[43mmatrix\u001b[49m\u001b[43m[\u001b[49m\u001b[43mconexion\u001b[49m\u001b[43m[\u001b[49m\u001b[38;5;241;43m0\u001b[39;49m\u001b[43m]\u001b[49m\u001b[43m]\u001b[49m\u001b[43m[\u001b[49m\u001b[43mconexion\u001b[49m\u001b[43m[\u001b[49m\u001b[38;5;241;43m1\u001b[39;49m\u001b[43m]\u001b[49m\u001b[43m]\u001b[49m \u001b[38;5;241m=\u001b[39m \u001b[38;5;241m1\u001b[39m\n\u001b[0;32m      8\u001b[0m     matrix[conexion[\u001b[38;5;241m1\u001b[39m]][conexion[\u001b[38;5;241m0\u001b[39m]] \u001b[38;5;241m=\u001b[39m \u001b[38;5;241m1\u001b[39m\n\u001b[0;32m      9\u001b[0m     \u001b[38;5;28;01mreturn\u001b[39;00m matrix\n",
      "\u001b[1;31mTypeError\u001b[0m: 'tuple' object does not support item assignment"
     ]
    }
   ],
   "source": [
    "conexiones = [(0, 1), (1, 2), (0, 2), (2, 3)]\n",
    "nodos = 4\n",
    "\n",
    "matrix = [[0] * nodos for _ in range(nodos)]\n",
    "\n",
    "def agregar_conexion(matrix, conexion):\n",
    "    matrix[conexion[0]][conexion[1]] = 1\n",
    "    matrix[conexion[1]][conexion[0]] = 1\n",
    "    return matrix\n",
    "\n",
    "matrix_final = reduce(agregar_conexion, matrix, conexiones)\n",
    "print(matrix_final)\n"
   ]
  },
  {
   "cell_type": "markdown",
   "metadata": {
    "vscode": {
     "languageId": "plaintext"
    }
   },
   "source": [
    "#### 13. Cálculo del promedio ponderado sobre una secuencia de datos\n",
    "\n",
    "Dada una lista de tuplas donde el primer elemento es el valor y el segundo es el peso de ese valor, usa `reduce` para calcular el promedio ponderado de los valores.\n",
    "\n",
    "```python\n",
    "datos = [(70, 1.5), (80, 2.0), (90, 3.0)]\n",
    "\n",
    "# Resultado esperado: el promedio ponderado de los valores basado en los pesos. 82.31.\n",
    "```\n",
    "\n"
   ]
  },
  {
   "cell_type": "code",
   "execution_count": 297,
   "metadata": {},
   "outputs": [
    {
     "data": {
      "text/plain": [
       "(500.0, 6.5)"
      ]
     },
     "execution_count": 297,
     "metadata": {},
     "output_type": "execute_result"
    }
   ],
   "source": [
    "datos = [(70, 1.5), (80, 2.0), (90, 3.0)]\n",
    "\n",
    "def weight_avg(n1, n2):\n",
    "    try:\n",
    "        numerador1, denominador1 = n1\n",
    "        numerador2, denominador2 = n2[0] * n2[1], n2[1]\n",
    "        \n",
    "        return numerador1 + numerador2, denominador1 + denominador2\n",
    "    except:\n",
    "        return n1[0] * n1[1], n1[1]\n",
    "\n",
    "reduce(weight_avg, datos)"
   ]
  }
 ],
 "metadata": {
  "kernelspec": {
   "display_name": "Python 3",
   "language": "python",
   "name": "python3"
  },
  "language_info": {
   "codemirror_mode": {
    "name": "ipython",
    "version": 3
   },
   "file_extension": ".py",
   "mimetype": "text/x-python",
   "name": "python",
   "nbconvert_exporter": "python",
   "pygments_lexer": "ipython3",
   "version": "3.11.9"
  }
 },
 "nbformat": 4,
 "nbformat_minor": 2
}
